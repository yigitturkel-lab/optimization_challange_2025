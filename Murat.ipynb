{
 "cells": [
  {
   "cell_type": "markdown",
   "id": "e8694b4d-5979-468e-879c-2b58031278be",
   "metadata": {},
   "source": [
    "# Burada çözecez\n",
    "\n",
    "merhaba arkaldalfkdasl"
   ]
  },
  {
   "cell_type": "code",
   "execution_count": 1,
   "id": "05473b32-d19b-4c95-99ce-6fdaf16dc05f",
   "metadata": {},
   "outputs": [
    {
     "name": "stdout",
     "output_type": "stream",
     "text": [
      "hello\n"
     ]
    }
   ],
   "source": [
    "def read_txt()"
   ]
  },
  {
   "cell_type": "markdown",
   "id": "ae836ac6-90f4-4400-9d60-c6f1fa456683",
   "metadata": {},
   "source": [
    "normal yazı\n"
   ]
  },
  {
   "cell_type": "code",
   "execution_count": null,
   "id": "287e9d0c-de72-40a9-b91e-8f58b00b0183",
   "metadata": {},
   "outputs": [],
   "source": []
  }
 ],
 "metadata": {
  "kernelspec": {
   "display_name": "Python 3 (ipykernel)",
   "language": "python",
   "name": "python3"
  },
  "language_info": {
   "codemirror_mode": {
    "name": "ipython",
    "version": 3
   },
   "file_extension": ".py",
   "mimetype": "text/x-python",
   "name": "python",
   "nbconvert_exporter": "python",
   "pygments_lexer": "ipython3",
   "version": "3.12.7"
  }
 },
 "nbformat": 4,
 "nbformat_minor": 5
}
